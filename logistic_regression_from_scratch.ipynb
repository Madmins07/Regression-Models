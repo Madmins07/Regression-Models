{
  "nbformat": 4,
  "nbformat_minor": 0,
  "metadata": {
    "colab": {
      "provenance": [],
      "authorship_tag": "ABX9TyNMGfZMpK2sCF1Mup+YcZdw",
      "include_colab_link": true
    },
    "kernelspec": {
      "name": "python3",
      "display_name": "Python 3"
    },
    "language_info": {
      "name": "python"
    }
  },
  "cells": [
    {
      "cell_type": "markdown",
      "metadata": {
        "id": "view-in-github",
        "colab_type": "text"
      },
      "source": [
        "<a href=\"https://colab.research.google.com/github/Madmins07/Regression-Models/blob/main/logistic_regression_from_scratch.ipynb\" target=\"_parent\"><img src=\"https://colab.research.google.com/assets/colab-badge.svg\" alt=\"Open In Colab\"/></a>"
      ]
    },
    {
      "cell_type": "code",
      "execution_count": null,
      "metadata": {
        "id": "u3BJGBHELShW"
      },
      "outputs": [],
      "source": [
        "import pandas as pd\n",
        "import numpy as np\n",
        "import math\n",
        "import matplotlib.pyplot as plt\n"
      ]
    },
    {
      "cell_type": "code",
      "source": [
        "train_df = pd.read_csv(\"train.csv\")\n",
        "test_df = pd.read_csv(\"test.csv\")\n",
        "test_ans_df=pd.read_csv(\"gender_submission.csv\")\n",
        "train_df.drop(columns=['PassengerId','Name','Ticket','Cabin'], inplace=True)\n",
        "test_df.drop(columns=['PassengerId','Name','Ticket','Cabin'], inplace=True)\n",
        "test_ans_df.drop(columns=['PassengerId'], inplace=True)"
      ],
      "metadata": {
        "id": "P-HrYJ3PLuZg"
      },
      "execution_count": null,
      "outputs": []
    },
    {
      "cell_type": "code",
      "source": [
        "train_y=np.array(train_df['Survived'])\n",
        "train_x = np.array(train_df[['Pclass', 'Sex', 'SibSp', 'Parch', 'Fare']]) # 891 6\n",
        "\n",
        "train_x[:, 1] = np.where(train_x[:, 1] == 'male', 1, train_x[:, 1])\n",
        "train_x[:, 1] = np.where(train_x[:, 1] == 'female', 0, train_x[:, 1])\n",
        "print(train_x.shape)"
      ],
      "metadata": {
        "id": "i3mJda0MOPxS"
      },
      "execution_count": null,
      "outputs": []
    },
    {
      "cell_type": "markdown",
      "source": [
        "Code"
      ],
      "metadata": {
        "id": "1GqqOnXUTEbO"
      }
    },
    {
      "cell_type": "code",
      "source": [
        "def initialise_param(train_x):\n",
        "  w = np.zeros((train_x.shape[1]))\n",
        "  b = 0\n",
        "  return w,b"
      ],
      "metadata": {
        "id": "fVOWWQLrTFg1"
      },
      "execution_count": null,
      "outputs": []
    },
    {
      "cell_type": "code",
      "source": [
        "def update(w,b,alpha,pred_y,x,y,m):\n",
        "\n",
        "  dw = (1/m)*np.dot(x.T,pred_y-y)\n",
        "  db = (1/m)*np.sum(pred_y-y)\n",
        "  w = w - alpha*dw\n",
        "  b = b- alpha*db\n",
        "  return w,b\n",
        "\n",
        "def sigmoid(z):\n",
        "  z=1/(1+np.exp(-z))\n",
        "  y_pred_class=[1 if i>0.5 else 0 for i in z]\n",
        "  return y_pred_class\n",
        "\n",
        "def gradient_descent(itr,alpha,m,train_x,train_y):\n",
        "  w,b=initialise_param(train_x)\n",
        "  for i in range(itr):\n",
        "    pred_y=np.dot(train_x,w)+b\n",
        "    pred_y = pred_y.astype('int32')\n",
        "    pred_y=1/(1+np.exp(-pred_y))\n",
        "    w,b=update(w,b,alpha,pred_y,train_x,train_y,m)\n",
        "  return w,b\n",
        "\n",
        "m=train_x.shape[0]\n",
        "w,b=gradient_descent(5000,0.001,m,train_x,train_y)\n",
        "print(w,b)\n",
        "z=np.dot(train_x,w)+b\n",
        "z=z.astype('int64')\n",
        "plt.plot(train_x,train_y,'r+')\n",
        "plt.plot(sigmoid(z),'b.')\n",
        "plt.show()"
      ],
      "metadata": {
        "id": "qtzto6nmY-3S"
      },
      "execution_count": null,
      "outputs": []
    }
  ]
}